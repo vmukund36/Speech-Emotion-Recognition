{
 "cells": [
  {
   "cell_type": "code",
   "execution_count": 9,
   "id": "7fed2ba8-744d-4fcf-af2f-7a3f617e38d7",
   "metadata": {},
   "outputs": [],
   "source": [
    "import soundfile as sf\n",
    "import numpy as np\n",
    "import librosa\n",
    "import glob\n",
    "import os\n",
    "import pickle\n",
    "import tensorflow\n",
    "from sklearn.model_selection import train_test_split \n",
    "from sklearn.neural_network import MLPClassifier\n",
    "from sklearn.metrics import accuracy_score"
   ]
  },
  {
   "cell_type": "code",
   "execution_count": 2,
   "id": "d00a5836-de22-4bcc-abfd-691e42aadd9e",
   "metadata": {},
   "outputs": [],
   "source": [
    "def feature_extraction(fileName,mfcc,chroma,mel):\n",
    "    with sf.SoundFile(fileName) as file:\n",
    "        sound = file.read(dtype='float32')\n",
    "        sample_rate = file.samplerate     \n",
    "        if chroma:         \n",
    "            stft = np.abs(librosa.stft(sound))\n",
    "        feature = np.array([])               \n",
    "        if mfcc:\n",
    "            mfcc = np.mean(librosa.feature.mfcc(y=sound,sr=sample_rate,n_mfcc=40).T,axis=0)\n",
    "            feature =np.hstack((feature,mfcc))\n",
    "        if chroma:\n",
    "            chroma =  np.mean(librosa.feature.chroma_stft(S=stft,sr=sample_rate).T,axis=0)\n",
    "            feature = np.hstack((feature,chroma))\n",
    "        if mel:\n",
    "            mel = np.mean(librosa.feature.melspectrogram(y=sound,sr=sample_rate).T,axis=0)\n",
    "            feature =np.hstack((feature,mel))\n",
    "        return feature "
   ]
  },
  {
   "cell_type": "code",
   "execution_count": 3,
   "id": "2aa9d1a7-8697-49e1-abc1-bace8dff85a9",
   "metadata": {},
   "outputs": [],
   "source": [
    "int_emotion = {\n",
    "    \"01\": \"neutral\",\n",
    "    \"02\": \"calm\",\n",
    "    \"03\": \"happy\",\n",
    "    \"04\": \"sad\",\n",
    "    \"05\": \"angry\",\n",
    "    \"06\": \"fearful\",\n",
    "    \"07\": \"disgust\",\n",
    "    \"08\": \"surprised\"\n",
    "}\n",
    "EMOTIONS = {\"happy\",\"sad\",\"neutral\",\"angry\"}"
   ]
  },
  {
   "cell_type": "code",
   "execution_count": 24,
   "id": "15b7f6b7-dbb4-435d-943d-2a8512c460cd",
   "metadata": {},
   "outputs": [],
   "source": [
    "def train_test_data(test_size=0.25):\n",
    "    features, emotions = [],[] #intializing features and emotions\n",
    "    for file in glob.glob(\"C:\\\\Users\\\\vmuku\\\\OneDrive\\\\Desktop\\Data science\\\\data\\\\actor_*\\\\*.wav\"):\n",
    "        fileName = os.path.basename(file)  \n",
    "        emotion = int_emotion[fileName.split(\"-\")[2]] \n",
    "        if emotion not in EMOTIONS:\n",
    "            continue\n",
    "        feature=feature_extraction(file,mfcc=True,chroma=True,mel=True,) \n",
    "        features.append(feature)\n",
    "        emotions.append(emotion)\n",
    "    return train_test_split(np.array(features),emotions, test_size=test_size, random_state=7)"
   ]
  },
  {
   "cell_type": "code",
   "execution_count": 26,
   "id": "c6b88e95-9335-4a8b-84ef-3b465377106a",
   "metadata": {},
   "outputs": [],
   "source": [
    "X_train,X_test,y_train,y_test=train_test_data(test_size=0.3)"
   ]
  },
  {
   "cell_type": "code",
   "execution_count": 6,
   "id": "1327b0d7-43e8-4b30-822e-342f93a11300",
   "metadata": {},
   "outputs": [],
   "source": [
    "model=MLPClassifier(alpha=0.01, batch_size=256, epsilon=1e-08, hidden_layer_sizes=(400,), learning_rate='adaptive', max_iter=1000)"
   ]
  },
  {
   "cell_type": "code",
   "execution_count": 7,
   "id": "b415fc7a-bd39-4949-bdc5-fa94b55b2f17",
   "metadata": {},
   "outputs": [
    {
     "data": {
      "text/plain": [
       "MLPClassifier(alpha=0.01, batch_size=256, hidden_layer_sizes=(400,),\n",
       "              learning_rate='adaptive', max_iter=1000)"
      ]
     },
     "execution_count": 7,
     "metadata": {},
     "output_type": "execute_result"
    }
   ],
   "source": [
    "model.fit(X_train,y_train)"
   ]
  },
  {
   "cell_type": "code",
   "execution_count": 8,
   "id": "8d23790a-3b69-4eb9-9ef0-de0afc4c0f91",
   "metadata": {},
   "outputs": [],
   "source": [
    "y_pred = model.predict(X_test)"
   ]
  },
  {
   "cell_type": "code",
   "execution_count": 23,
   "id": "703c4c3e-b10a-4bc7-9bac-97988c4a9bab",
   "metadata": {},
   "outputs": [
    {
     "data": {
      "text/plain": [
       "'neutral'"
      ]
     },
     "execution_count": 23,
     "metadata": {},
     "output_type": "execute_result"
    }
   ],
   "source": [
    "y_pred[12]"
   ]
  },
  {
   "cell_type": "code",
   "execution_count": 27,
   "id": "e1419575-ef6d-4251-a897-bacca63503f6",
   "metadata": {},
   "outputs": [
    {
     "data": {
      "text/plain": [
       "0.7227722772277227"
      ]
     },
     "execution_count": 27,
     "metadata": {},
     "output_type": "execute_result"
    }
   ],
   "source": [
    "accuracy = accuracy_score(y_true=y_test,y_pred=y_pred)\n",
    "accuracy"
   ]
  },
  {
   "cell_type": "code",
   "execution_count": 28,
   "id": "ea656cb9-3f74-4400-b052-aaacd414cd74",
   "metadata": {},
   "outputs": [],
   "source": [
    "if not os.path.isdir(\"model\"): \n",
    "   os.mkdir(\"model\") \n",
    "pickle.dump(model, open(\"model/mlp_classifier.model\", \"wb\"))"
   ]
  }
 ],
 "metadata": {
  "kernelspec": {
   "display_name": "Python 3 (ipykernel)",
   "language": "python",
   "name": "python3"
  },
  "language_info": {
   "codemirror_mode": {
    "name": "ipython",
    "version": 3
   },
   "file_extension": ".py",
   "mimetype": "text/x-python",
   "name": "python",
   "nbconvert_exporter": "python",
   "pygments_lexer": "ipython3",
   "version": "3.9.12"
  }
 },
 "nbformat": 4,
 "nbformat_minor": 5
}
